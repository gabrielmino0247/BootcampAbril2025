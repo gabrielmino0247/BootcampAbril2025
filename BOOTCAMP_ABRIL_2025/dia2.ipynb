{
 "cells": [
  {
   "cell_type": "markdown",
   "id": "467ce1cf",
   "metadata": {},
   "source": [
    "# DIA DOS\n",
    "\n",
    "## CONDICIONALES\n",
    "- "
   ]
  },
  {
   "cell_type": "code",
   "execution_count": 1,
   "id": "094a741e",
   "metadata": {},
   "outputs": [
    {
     "name": "stdout",
     "output_type": "stream",
     "text": [
      "mayor\n"
     ]
    }
   ],
   "source": [
    "edad = 18\n",
    "\n",
    "if edad < 18:\n",
    "    print(\"menor\")\n",
    "else:\n",
    "    print(\"mayor\")"
   ]
  },
  {
   "cell_type": "code",
   "execution_count": 4,
   "id": "3e1b6c0d",
   "metadata": {},
   "outputs": [
    {
     "name": "stdout",
     "output_type": "stream",
     "text": [
      "trabajador\n"
     ]
    }
   ],
   "source": [
    "edad_persona = 35\n",
    "\n",
    "if edad_persona < 18:\n",
    "    print('estudiante')\n",
    "elif edad_persona > 65:\n",
    "    print('jubilado')\n",
    "else:\n",
    "    print('trabajador')"
   ]
  },
  {
   "cell_type": "code",
   "execution_count": 14,
   "id": "86ff2556",
   "metadata": {},
   "outputs": [
    {
     "name": "stdout",
     "output_type": "stream",
     "text": [
      "hace lo que quieras\n"
     ]
    }
   ],
   "source": [
    "##challenge\n",
    "\n",
    "edad_usuario = int(input(\"Cuántos años tienes? \"))\n",
    "if edad_usuario < 18:\n",
    "    print(\"juguito nomas\")\n",
    "elif edad_usuario >= 21:\n",
    "    print(\"hace lo que quieras\")\n",
    "else:\n",
    "    print(\"podes tomar pero no comprar\")\n",
    "\n",
    "\n"
   ]
  },
  {
   "cell_type": "markdown",
   "id": "4c40ceac",
   "metadata": {},
   "source": [
    "## operadores logicos\n",
    "- AND\n",
    "- OR\n",
    "- NOT\n",
    "\n",
    "estos operadores nos sirven para condiciones, union, disyuncion o negacion (*-1)"
   ]
  },
  {
   "cell_type": "code",
   "execution_count": 21,
   "id": "f81497fe",
   "metadata": {},
   "outputs": [
    {
     "name": "stdout",
     "output_type": "stream",
     "text": [
      "explotacion infantil\n"
     ]
    }
   ],
   "source": [
    "edad_persona = 15\n",
    "trabajo = True\n",
    "\n",
    "if edad_persona < 18 and trabajo == True:\n",
    "    print('explotacion infantil')\n",
    "elif edad_persona < 18 and trabajo == False:\n",
    "    print('estudiante')\n",
    "elif edad_persona < 65 and trabajo == True:\n",
    "    print('trabajador')\n",
    "elif edad_persona < 65 and trabajo == False:\n",
    "    print('desempleado')\n",
    "elif edad_persona >= 65 and trabajo == True:\n",
    "    print('jubilado y trabajador')\n",
    "else:\n",
    "    print('jubilado')"
   ]
  },
  {
   "cell_type": "code",
   "execution_count": 22,
   "id": "32680bbd",
   "metadata": {},
   "outputs": [
    {
     "data": {
      "text/plain": [
       "'explotacion infantil'"
      ]
     },
     "execution_count": 22,
     "metadata": {},
     "output_type": "execute_result"
    }
   ],
   "source": [
    "def chequear_edad(edad_laboral, trabajo):\n",
    "    if edad_laboral < 18 and trabajo == True:\n",
    "        return 'explotacion infantil'\n",
    "    elif edad_laboral < 18 and trabajo == False:\n",
    "        return 'estudiante'\n",
    "    elif edad_laboral < 65 and trabajo == True:\n",
    "        return 'trabajador'\n",
    "    elif edad_laboral < 65 and trabajo == False:\n",
    "        return 'desempleado'\n",
    "    elif edad_laboral >= 65 and trabajo == True:\n",
    "        return 'jubilado y trabajador'\n",
    "    else:\n",
    "        return 'jubilado'\n",
    "\n",
    "\n",
    "chequear_edad(15, True)\n",
    "    "
   ]
  },
  {
   "cell_type": "code",
   "execution_count": 33,
   "id": "c6b40952",
   "metadata": {},
   "outputs": [
    {
     "name": "stdout",
     "output_type": "stream",
     "text": [
      "La temperatura es: 30.9°C\n",
      "CALOR'i\n"
     ]
    }
   ],
   "source": [
    "#challenge dos\n",
    "temperatura = float(input(\"Cual es la temperatura? \"))\n",
    "print(F\"La temperatura es: {temperatura}°C\")\n",
    "if temperatura >= -10 and temperatura < 19: #EL LIMITE ES HASTA 18 POR ESO USO MENOR A 19 Y EN EL SIGUIENTE\n",
    "    print(\"FRESQUETE\")\n",
    "elif temperatura >= 19 and temperatura < 31: #AQUI USO MAYOR O IGUAL ENTONCES QUEDA BIEN DELIMITADO\n",
    "    print(\"CALOR'i\")\n",
    "elif temperatura >= 31 and temperatura <= 45: #MISMA LOGICA QUE ANTES\n",
    "    print(\"HAKUUUUU\")\n",
    "else:\n",
    "    print(\"ÑAMANO MBA E\") "
   ]
  },
  {
   "cell_type": "markdown",
   "id": "2d7a8cce",
   "metadata": {},
   "source": [
    "## BUCLES\n",
    "- While: nos permite ejecutar un bloque de codigo mientras una condicion sea verdadera.\n",
    "- Do while: similar al bucle while, pero garantiza que el bloque de codigo se ejecute al menos una vez.\n",
    "- For: nos permite iterar sobre una secuencia (lista, tupla, diccionario, conjunto o cadena).\n",
    "- Break: se utiliza para salir de un bucle.\n",
    "- Continue: se utiliza para saltar la iteracion actual y continuar con la siguiente.\n",
    "- Pass: se utiliza como un marcador de posicion, no hace nada pero permite que el codigo sea sintacticamente correcto.\n",
    "- Range: se utiliza para generar una secuencia de numeros enteros.\n",
    "- Enumerate: se utiliza para iterar sobre una secuencia y obtener tanto el indice como el valor de cada elemento.\n",
    "- for else: se utiliza para ejecutar un bloque de codigo una vez que el bucle ha terminado de iterar.\n",
    "- while else: se utiliza para ejecutar un bloque de codigo una vez que el bucle ha terminado de iterar.\n",
    "- break else: se utiliza para ejecutar un bloque de codigo una vez que el bucle ha terminado de iterar.\n",
    "- continue else: se utiliza para ejecutar un bloque de codigo una vez que el bucle ha terminado de iterar."
   ]
  },
  {
   "cell_type": "code",
   "execution_count": 34,
   "id": "620e98dd",
   "metadata": {},
   "outputs": [
    {
     "name": "stdout",
     "output_type": "stream",
     "text": [
      "5\n",
      "5\n",
      "6\n",
      "6\n",
      "6\n",
      "6\n",
      "6\n",
      "6\n",
      "6\n",
      "15\n",
      "Ganaste!\n"
     ]
    }
   ],
   "source": [
    "numero_a_adivinar = 15\n",
    "numero = 5\n",
    "\n",
    "while numero != numero_a_adivinar:\n",
    "    numero = int(input(\"Adivina el número: \"))\n",
    "    print(numero)\n",
    "\n",
    "print(\"Ganaste!\")\n",
    "\n",
    "while True:\n",
    "    numero = int(input(\"Adivina el número: \"))\n",
    "    if numero == numero_a_adivinar:\n",
    "        print(\"Ganaste!\")\n",
    "        break\n",
    "    else:\n",
    "        print(\"Perdiste, intenta de nuevo\")\n",
    "\n",
    "\n"
   ]
  },
  {
   "cell_type": "code",
   "execution_count": 42,
   "id": "143b9954",
   "metadata": {},
   "outputs": [
    {
     "name": "stdout",
     "output_type": "stream",
     "text": [
      "Contraseña correcta, mensaje secreto: hay cafe recien hecho!\n"
     ]
    }
   ],
   "source": [
    "contrasenha = 'penguin123'\n",
    "contrasenha_introducida = 'hola'    #creamos una introduccion estandar erronea para que entre en el while\n",
    "\n",
    "while contrasenha != contrasenha_introducida: #creamos el bucle siempre y cuando no coincidan la contrasenha \n",
    "    ##(pudimos usar tambien con true directo y break pero no hay gran diferencia)\n",
    "    contrasenha_introducida = input(\"Escriba la contraseña: \") \n",
    "    if contrasenha_introducida != 'penguin123':\n",
    "        print(\"Contraseña incorrecta, intente de nuevo\")  #solo validamos si es correcto, sino sale directo del bucle\n",
    "\n",
    "print(\"Contraseña correcta, mensaje secreto: hay cafe recien hecho!\") #mensaje final, que reine el cafe"
   ]
  },
  {
   "cell_type": "code",
   "execution_count": 43,
   "id": "a0159023",
   "metadata": {},
   "outputs": [
    {
     "name": "stdout",
     "output_type": "stream",
     "text": [
      "error, vuelva a introducir: \n",
      "error, vuelva a introducir: \n",
      "error, vuelva a introducir: \n",
      "contrasenha correcta, mensaje: ja u cafe\n"
     ]
    }
   ],
   "source": [
    "contrasenha = 'penguin456'\n",
    "while True:\n",
    "    contrasenha_introducida= input('introduzca su contrasenha: ')\n",
    "    if contrasenha_introducida == contrasenha:\n",
    "        print('contrasenha correcta, mensaje: ja u cafe')\n",
    "        break\n",
    "    else:\n",
    "        print('error, vuelva a introducir: ')\n",
    "\n",
    "        \n"
   ]
  },
  {
   "cell_type": "markdown",
   "id": "50256b21",
   "metadata": {},
   "source": [
    "## listas\n",
    " son colecciones ordenadas y mutables de elementos. Se definen utilizando corchetes [] y pueden contener elementos de diferentes tipos.\n",
    "- Crear una lista: se puede crear una lista vacia o con elementos iniciales. Ejemplo: `mi_lista = []` o `mi_lista = [1, 2, 3]`\n",
    "\n",
    "- Acceder a elementos: se puede acceder a los elementos de una lista utilizando su indice. Ejemplo: `mi_lista[0]` devuelve el primer elemento de la lista.\n",
    "\n",
    "- Modificar elementos: se pueden modificar los elementos de una lista utilizando su indice. Ejemplo: `mi_lista[0] = 10` cambia el primer elemento de la lista a 10.\n",
    "\n",
    "- ejemplo de difernte tipos de datos en una lista:\n",
    "    -  `mi_lista = [1, \"hola\", 3.14, True]`, donde la lista contiene un entero, una cadena, un flotante y un booleano. \n",
    "    -   o sino `mi_lista = [1, 2, 3, 4, 5]` donde la lista contiene solo enteros. \n",
    "    -   o sino `mi_lista = [\"a\", \"b\", \"c\", \"d\", \"e\"]` donde la lista contiene solo cadenas. \n",
    "    -   o sino `mi_lista = [1, 2, 3, \"hola\", True]` donde la lista contiene enteros, cadenas y booleanos. \n",
    "    -   o sino `mi_lista = [1.5, 2.5, 3.5, 4.5, 5.5]` donde la lista contiene solo flotantes. \n",
    "    -   o sino `mi_lista = [True, False, True, False]` donde la lista contiene solo booleanos.\n",
    "\n",
    "- funciones de listas:\n",
    "    - len: se utiliza para obtener la longitud de una lista.\n",
    "    - append: se utiliza para agregar un elemento al final de una lista.\n",
    "    - extend: se utiliza para agregar varios elementos al final de una lista.\n",
    "    - insert: se utiliza para agregar un elemento en una posicion especifica de una lista.\n",
    "    - remove: se utiliza para eliminar por valor un elemento de una lista.\n",
    "    - pop: se utiliza para eliminar y devolver el ultimo elemento de una lista.\n",
    "    - clear: se utiliza para eliminar todos los elementos de una lista.\n",
    "    - index: se utiliza para obtener el indice del primer elemento de una lista que coincida con el valor especificado.\n",
    "    - count: se utiliza para contar el numero de veces que un elemento aparece en una lista.\n",
    "    - sort: se utiliza para ordenar los elementos de una lista.\n",
    "    - reverse: se utiliza para invertir el orden de los elementos de una lista.\n",
    "    - copy: se utiliza para crear una copia superficial de una lista.\n",
    "\n",
    "- los indices son numericos y comienzan desde 0. Por ejemplo, \n",
    "    en la lista `mi_lista = [1, 2, 3]`, el primer elemento es `mi_lista[0]`, \n",
    "    el segundo elemento es `mi_lista[1]` y el tercer elemento es `mi_lista[2]`. \n",
    "\n",
    "    Los indices negativos se utilizan para acceder a los elementos desde el final de la lista. \n",
    "    Por ejemplo, en la lista `mi_lista = [1, 2, 3]`, el ultimo elemento es `mi_lista[-1]`, \n",
    "    el penultimo elemento es `mi_lista[-2]` y el antepenultimo elemento es `mi_lista[-3]`. \n",
    "    Los indices negativos son utiles cuando no se conoce la longitud de la lista o cuando se desea acceder a los elementos desde el final de la lista\n",
    "\n",
    "- longitud de una lista es el numero de elementos que contiene y se cuenta desde 1. \n",
    "    "
   ]
  },
  {
   "cell_type": "code",
   "execution_count": 48,
   "id": "8bbb9925",
   "metadata": {},
   "outputs": [
    {
     "name": "stdout",
     "output_type": "stream",
     "text": [
      "3\n",
      "pera\n",
      "manzana\n",
      "banana\n",
      "['pera', 'manzana', 'banana', 'kiwi']\n",
      "['pera', 'manzana', 'banana', 'kiwi', 'naranja', 'sandia']\n",
      "['pera', 'manzana', 'mora', 'banana', 'kiwi', 'naranja', 'sandia']\n",
      "['pera', 'manzana', 'mora', 'kiwi', 'naranja', 'sandia']\n",
      "kiwi\n",
      "['pera', 'manzana', 'mora', 'naranja', 'sandia']\n",
      "[]\n"
     ]
    },
    {
     "ename": "ValueError",
     "evalue": "'pera' is not in list",
     "output_type": "error",
     "traceback": [
      "\u001b[31m---------------------------------------------------------------------------\u001b[39m",
      "\u001b[31mValueError\u001b[39m                                Traceback (most recent call last)",
      "\u001b[36mCell\u001b[39m\u001b[36m \u001b[39m\u001b[32mIn[48]\u001b[39m\u001b[32m, line 38\u001b[39m\n\u001b[32m     35\u001b[39m \u001b[38;5;28mprint\u001b[39m(lista_frutas) \u001b[38;5;66;03m#[]\u001b[39;00m\n\u001b[32m     37\u001b[39m \u001b[38;5;66;03m#index - obtener el indice de un elemento\u001b[39;00m\n\u001b[32m---> \u001b[39m\u001b[32m38\u001b[39m \u001b[43mlista_frutas\u001b[49m\u001b[43m.\u001b[49m\u001b[43mindex\u001b[49m\u001b[43m(\u001b[49m\u001b[33;43m'\u001b[39;49m\u001b[33;43mpera\u001b[39;49m\u001b[33;43m'\u001b[39;49m\u001b[43m)\u001b[49m \u001b[38;5;66;03m#0\u001b[39;00m\n\u001b[32m     39\u001b[39m lista_frutas.index(\u001b[33m'\u001b[39m\u001b[33mmanzana\u001b[39m\u001b[33m'\u001b[39m) \u001b[38;5;66;03m#1\u001b[39;00m\n\u001b[32m     40\u001b[39m lista_frutas.index(\u001b[33m'\u001b[39m\u001b[33mmora\u001b[39m\u001b[33m'\u001b[39m) \u001b[38;5;66;03m#2\u001b[39;00m\n",
      "\u001b[31mValueError\u001b[39m: 'pera' is not in list"
     ]
    }
   ],
   "source": [
    "lista_frutas = ['pera', 'manzana', 'banana']\n",
    "\n",
    "#len - longitud\n",
    "print(len(lista_frutas)) #3\n",
    "\n",
    "#recorrido de lista\n",
    "print(lista_frutas[0]) #pera\n",
    "print(lista_frutas[1]) #manzana\n",
    "print(lista_frutas[2]) #banana\n",
    "\n",
    "\n",
    "# append - agregar al final de la lista\n",
    "lista_frutas.append('kiwi')\n",
    "print(lista_frutas) #['pera', 'manzana', 'banana', 'kiwi']\n",
    "\n",
    "#extend - agregar varios elementos al final de la lista\n",
    "lista_frutas.extend(['naranja', 'sandia'])\n",
    "print(lista_frutas) #['pera', 'manzana', 'banana', 'kiwi', 'naranja', 'sandia']\n",
    "\n",
    "#insert - agregar un elemento en una posicion especifica\n",
    "lista_frutas.insert(2, 'mora')\n",
    "print(lista_frutas) #['pera', 'manzana', 'mora', 'banana', 'kiwi', 'naranja', 'sandia']\n",
    "\n",
    "#remove - eliminar un elemento por su valor\n",
    "lista_frutas.remove('banana')\n",
    "print(lista_frutas) #['pera', 'manzana', 'mora', 'kiwi', 'naranja', 'sandia']\n",
    "\n",
    "#pop - eliminar un elemento por su indice y devolverlo\n",
    "elemento_eliminado = lista_frutas.pop(3)\n",
    "print(elemento_eliminado) #kiwi\n",
    "print(lista_frutas) #['pera', 'manzana', 'mora', 'naranja', 'sandia']\n",
    "\n",
    "#clear - eliminar todos los elementos de la lista\n",
    "lista_frutas.clear()\n",
    "print(lista_frutas) #[]\n",
    "\n",
    "#index - obtener el indice de un elemento\n",
    "lista_frutas.index('pera') #0\n",
    "lista_frutas.index('manzana') #1\n",
    "lista_frutas.index('mora') #2\n",
    "\n",
    "#count - contar la cantidad de veces que aparece un elemento en la lista\n",
    "lista_frutas.count('pera') #1\n",
    "lista_frutas.count('manzana') #1\n",
    "\n",
    "#sort - ordenar la lista\n",
    "lista_frutas = ['pera', 'manzana', 'banana']\n",
    "lista_frutas.sort()\n",
    "print(lista_frutas) #['banana', 'manzana', 'pera']\n",
    "\n",
    "#reverse - invertir el orden de la lista\n",
    "print(lista_frutas) #['banana', 'manzana', 'pera']\n",
    "lista_frutas.reverse()\n",
    "print(lista_frutas) #['pera', 'manzana',    'banana']\n",
    "\n",
    "#copy - hacer una copia de la lista\n",
    "lista_frutas_copia = lista_frutas.copy()\n",
    "print(lista_frutas_copia) #['pera', 'manzana', 'banana']\n"
   ]
  },
  {
   "cell_type": "code",
   "execution_count": 50,
   "id": "c1a89526",
   "metadata": {},
   "outputs": [
    {
     "name": "stdout",
     "output_type": "stream",
     "text": [
      "['mercedes', 'bently', 'bmw', 'toyota', 'lexus']\n",
      "['mercedes', 'bently', 'bmw', 'toyota', 'lexus', 'nissan']\n",
      "['mercedes', 'roll royce', 'bmw', 'toyota', 'lexus', 'nissan']\n",
      "['mercedes', 'roll royce', 'toyota', 'lexus', 'nissan']\n"
     ]
    }
   ],
   "source": [
    "##crear una lista de 5 elementos. luego seguir los siguientes pasos:\n",
    "# 1. agregar un elemento al final de la lista\n",
    "# 2. modificar el segundo elemento de la lista\n",
    "# 3. eliminar el tercer elemento de la lista\n",
    "\n",
    "lista_marcas=['mercedes', 'bently', 'bmw', 'toyota', 'lexus']\n",
    "print(lista_marcas)\n",
    "\n",
    "#1\n",
    "lista_marcas.append('nissan')\n",
    "print(lista_marcas)\n",
    "\n",
    "#2\n",
    "lista_marcas[1]= 'roll royce'\n",
    "print(lista_marcas)\n",
    "\n",
    "#3\n",
    "lista_marcas.pop(2)\n",
    "print(lista_marcas)\n"
   ]
  },
  {
   "cell_type": "markdown",
   "id": "36a5644d",
   "metadata": {},
   "source": [
    "## bucle FOR\n",
    "- se utiliza para iterar sobre una secuencia (lista, tupla, diccionario, conjunto o cadena).\n",
    "- se puede utilizar la funcion `range()` para generar una secuencia de numeros enteros.\n",
    "    - ejemplo: `for i in range(5):` itera desde 0 hasta 4.\n",
    "- se puede utilizar la funcion `len()` para obtener la longitud de una secuencia.\n",
    "    - ejemplo: `for i in range(len(mi_lista)):` itera sobre los indices de la lista.\n",
    "- se puede utilizar la funcion `in` para verificar si un elemento esta en una secuencia.\n",
    "    - ejemplo: for i in mi_lista:` verifica si `i` esta en la lista.\n",
    "    - se puede utilizar la funcion `not in` para verificar si un elemento no esta en una secuencia.\n",
    "    \n",
    "- se puede utilizar la funcion `enumerate()` para obtener tanto el indice como el valor de cada elemento.\n",
    "    - ejemplo: `for i, valor in enumerate(mi_lista):` itera sobre los indices y valores de la lista.\n",
    "- se puede utilizar la funcion `zip()` para iterar sobre varias secuencias al mismo tiempo.\n",
    "    - ejemplo: `for i, j in zip(lista1, lista2):` itera sobre los elementos de ambas listas al mismo tiempo.\n",
    "- se puede utilizar la funcion `reversed()` para invertir el orden de los elementos de una secuencia.\n",
    "    - ejemplo: `for i in reversed(mi_lista):` itera sobre los elementos de la lista en orden inverso.\n",
    "- se puede utilizar la funcion `sorted()` para ordenar los elementos de una secuencia.\n",
    "    - ejemplo: `for i in sorted(mi_lista):` itera sobre los elementos de la lista en orden ascendente.\n",
    "- se puede utilizar la funcion `sum()` para obtener la suma de los elementos de una secuencia.\n",
    "    - ejemplo: `suma = sum(mi_lista)` obtiene la suma de los elementos de la lista.\n",
    "EN RESUMEN NOS SERVIRA PARA RECORRER UNA LISTA O UNA CADENA DE TEXTO, O UNA TUPLA, O UN DICCIONARIO, O UN CONJUNTO, O UN RANGO DE NUMEROS ENTEROS.\n",
    "EJEMPLO: \n",
    "```python\n",
    "mi_lista = [1, 2, 3, 4, 5]\n",
    "for i in mi_lista:\n",
    "    print(i)\n",
    "```\n",
    "- se puede utilizar la funcion `break` para salir del bucle.\n",
    "- se puede utilizar la funcion `continue` para saltar la iteracion actual y continuar con la siguiente.\n",
    "- se puede utilizar la funcion `pass` como un marcador de posicion, no hace nada pero permite que el codigo sea sintacticamente correcto."
   ]
  },
  {
   "cell_type": "code",
   "execution_count": 51,
   "id": "39dfdfda",
   "metadata": {},
   "outputs": [
    {
     "name": "stdout",
     "output_type": "stream",
     "text": [
      "1\n",
      "2\n",
      "3\n",
      "4\n",
      "5\n",
      "6\n",
      "7\n"
     ]
    }
   ],
   "source": [
    "dias_de_la_semana = [1,2,3,4,5,6,7]\n",
    "\n",
    "for i in dias_de_la_semana:\n",
    "    print(i)"
   ]
  },
  {
   "cell_type": "code",
   "execution_count": 52,
   "id": "ad51dddf",
   "metadata": {},
   "outputs": [
    {
     "name": "stdout",
     "output_type": "stream",
     "text": [
      "ja\n",
      "ja\n",
      "ja\n",
      "ja\n",
      "ja\n"
     ]
    }
   ],
   "source": [
    "for i in range(5):\n",
    "    print('ja')"
   ]
  },
  {
   "cell_type": "code",
   "execution_count": 53,
   "id": "364a28b4",
   "metadata": {},
   "outputs": [
    {
     "name": "stdout",
     "output_type": "stream",
     "text": [
      "pan\n",
      "queso\n",
      "coca\n",
      "leche\n",
      "ron\n"
     ]
    }
   ],
   "source": [
    "lista_compras = ['pan','queso', 'coca', 'leche', 'ron']\n",
    "\n",
    "for articulo in lista_compras:\n",
    "    print(articulo)\n",
    "\n"
   ]
  },
  {
   "cell_type": "code",
   "execution_count": 54,
   "id": "cf85dbd0",
   "metadata": {},
   "outputs": [
    {
     "name": "stdout",
     "output_type": "stream",
     "text": [
      "0\n",
      "2\n",
      "4\n",
      "6\n",
      "8\n",
      "10\n",
      "12\n",
      "14\n",
      "16\n",
      "18\n"
     ]
    }
   ],
   "source": [
    "##challenge\n",
    "#escribir un programa que itere en un rango de 10 veces. por cada iteracion multiplicar el iterador por dos e imprimir el resultado\n",
    "\n",
    "for i in range(10):\n",
    "    print(i*2)"
   ]
  },
  {
   "cell_type": "markdown",
   "id": "6d350f55",
   "metadata": {},
   "source": [
    "- range se puede usar para generar una secuencia de numeros enteros. \n",
    "    Por ejemplo, `range(5)` genera la secuencia `0, 1, 2, 3, 4`. \n",
    "    Se puede especificar un inicio y un fin, por ejemplo, `range(1, 6)` genera la secuencia `1, 2, 3, 4, 5`. \n",
    "    Se puede especificar un paso, por ejemplo, `range(1, 10, 2)` genera la secuencia `1, 3, 5, 7, 9`. \n",
    "    Se puede utilizar la funcion `list()` para convertir el rango en una lista. \n",
    "    Por ejemplo, `list(range(5))` devuelve `[0, 1, 2, 3, 4]`.\n",
    "    Se puede utilizar la funcion `tuple()` para convertir el rango en una tupla. ejemplo, `tuple(range(5))` devuelve `(0, 1, 2, 3, 4)`.\n",
    "    Se puede utilizar la funcion `set()` para convertir el rango en un conjunto. ejemplo, `set(range(5))` devuelve `{0, 1, 2, 3, 4}`."
   ]
  },
  {
   "cell_type": "code",
   "execution_count": null,
   "id": "1ac337b1",
   "metadata": {},
   "outputs": [
    {
     "name": "stdout",
     "output_type": "stream",
     "text": [
      "la marca mercedes tiene 6 letras o mas \n",
      "la marca bentley tiene 6 letras o mas \n",
      "la marca toyota tiene 6 letras o mas \n",
      "la marca nissan tiene 6 letras o mas \n",
      "la marca roll royce tiene 6 letras o mas \n",
      "la marca jetour tiene 6 letras o mas \n"
     ]
    }
   ],
   "source": [
    "#challenge\n",
    "#recorrer los elementos de una lista de marcas e imprimir cada marca /solamente/ si tiene 6 letras o mas\n",
    "# print(lista_marcas)\n",
    "# print(len(lista_marcas[0]))\n",
    "\n",
    "lista_marcas=['mercedes', 'bentley', 'bmw', 'toyota', 'lexus', 'nissan', 'kia', 'roll royce',]\n",
    "for i in lista_marcas:\n",
    "    if len(i) >= 6:\n",
    "        print(f'la marca {i} tiene 6 letras o mas ')\n",
    "\n"
   ]
  },
  {
   "cell_type": "code",
   "execution_count": null,
   "id": "689de603",
   "metadata": {},
   "outputs": [
    {
     "name": "stdout",
     "output_type": "stream",
     "text": [
      "hola O\n",
      "ooooooo una vez\n",
      "ooooooo una vez\n",
      "ooooooo una vez\n",
      "ooooooo una vez\n",
      "ooooooo una vez\n",
      "ooooooo una vez\n"
     ]
    }
   ],
   "source": [
    "#solicitar al usuario que ingrese una frase, imprimir un mensaje cada vez que se encuentre la letra o\n",
    "\n",
    "frase = input('ingrese una frase    ')\n",
    "print(frase)\n",
    "j=1\n",
    "for i in frase.lower():\n",
    "    if i == 'o' and j == 1: # investigar si se puede poner directo 'o' or 'O' directo en el if\n",
    "        j = j + 1\n",
    "        print('ooooooo una vez')\n",
    "    elif i == 'o' and j != 1:\n",
    "        print('ooooooo una vez mas')"
   ]
  },
  {
   "cell_type": "code",
   "execution_count": null,
   "id": "0818904c",
   "metadata": {},
   "outputs": [],
   "source": [
    "##challenge\n",
    "#reglas \n",
    "#adivina en 6 intentos\n",
    "# cada intento debe ser una palabra valida y si la palabra no existe el juego te avisara   \n",
    "#usar libreria dict para diccionario\n",
    "\n",
    "\n",
    "##hacer un jueguito donde verde indica que la letra es correcta y la posicion tambien\n",
    "\n",
    "##amarillo es que la letra esta presente pero en la posicion incorrecta\n",
    "\n",
    "##gris significa que la letra no esta presente en la palabra\n",
    "\n"
   ]
  }
 ],
 "metadata": {
  "kernelspec": {
   "display_name": "Python 3",
   "language": "python",
   "name": "python3"
  },
  "language_info": {
   "codemirror_mode": {
    "name": "ipython",
    "version": 3
   },
   "file_extension": ".py",
   "mimetype": "text/x-python",
   "name": "python",
   "nbconvert_exporter": "python",
   "pygments_lexer": "ipython3",
   "version": "3.13.3"
  }
 },
 "nbformat": 4,
 "nbformat_minor": 5
}
