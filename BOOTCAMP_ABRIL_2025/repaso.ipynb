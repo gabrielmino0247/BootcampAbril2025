{
 "cells": [
  {
   "cell_type": "code",
   "execution_count": 1,
   "id": "3ebbd025",
   "metadata": {},
   "outputs": [
    {
     "name": "stdout",
     "output_type": "stream",
     "text": [
      "el numero dos es  mayor\n"
     ]
    }
   ],
   "source": [
    "numero_1 = 10\n",
    "numero_2 = 15\n",
    "\n",
    "mayor_que = numero_1 > numero_2\n",
    "\n",
    "if mayor_que:\n",
    "    print('numero 1 es mayor')\n",
    "else:\n",
    "    print('el numero dos es  mayor')"
   ]
  },
  {
   "cell_type": "code",
   "execution_count": null,
   "id": "fb3ed173",
   "metadata": {},
   "outputs": [],
   "source": [
    "edad = 18\n",
    "\n",
    "if  edad > 18:\n",
    "    print('juguito nomas')\n",
    "elif edad < 21:\n",
    "    print('podes tomar pero no comprar')\n",
    "else:\n",
    "    print('hace lo que quieras')\n",
    "\n"
   ]
  },
  {
   "cell_type": "code",
   "execution_count": null,
   "id": "bff1dd9d",
   "metadata": {},
   "outputs": [],
   "source": [
    "#listas\n",
    "\n",
    "participantes = ['renzo', 'oliver', 'jimena', 'matias']\n",
    "\n",
    "\n",
    "#vieron como poner un tooltip en las funciones agregrando 3 comillas\n",
    "#ejemplo\n",
    "def hola(a,b):\n",
    "    '''esto suma dos valores y retorna el total'''\n",
    "    suma = a + b\n",
    "    return suma\n",
    "\n",
    "\n",
    "\n",
    "\n",
    "hola()"
   ]
  },
  {
   "cell_type": "code",
   "execution_count": 4,
   "id": "80cddb9e",
   "metadata": {},
   "outputs": [
    {
     "name": "stdout",
     "output_type": "stream",
     "text": [
      " la contrasenha sdf esta mal, hace otv\n",
      " la contrasenha fgs esta mal, hace otv\n",
      " la contrasenha dfg esta mal, hace otv\n",
      " la contrasenha dfg esta mal, hace otv\n",
      "contrasena correcta\n"
     ]
    }
   ],
   "source": [
    "##bucles condicionales\n",
    "##bucles iterativos\n",
    "\n",
    "contrasena_fija = 'pinguino'\n",
    "contrasena_user = input('ingrese la contrasena...')\n",
    "\n",
    "while contrasena_fija!= contrasena_user:\n",
    "    print(f' la contrasenha {contrasena_user} esta mal, hace otv')\n",
    "    contrasena_user = input('ingrese la contrasena...')\n",
    "\n",
    "print('contrasena correcta')"
   ]
  },
  {
   "cell_type": "code",
   "execution_count": null,
   "id": "1f89ee08",
   "metadata": {},
   "outputs": [],
   "source": [
    "for individuo in participantes:\n",
    "    print(individuo)\n",
    "\n",
    "nombre= 'anadamajuana'\n",
    "\n",
    "for letra in nombre:\n",
    "    print(letra)\n",
    "\n",
    "for numero in range(5):\n",
    "    print(numero)"
   ]
  },
  {
   "cell_type": "code",
   "execution_count": null,
   "id": "c56bcb40",
   "metadata": {},
   "outputs": [],
   "source": []
  }
 ],
 "metadata": {
  "kernelspec": {
   "display_name": "Python 3",
   "language": "python",
   "name": "python3"
  },
  "language_info": {
   "codemirror_mode": {
    "name": "ipython",
    "version": 3
   },
   "file_extension": ".py",
   "mimetype": "text/x-python",
   "name": "python",
   "nbconvert_exporter": "python",
   "pygments_lexer": "ipython3",
   "version": "3.13.3"
  }
 },
 "nbformat": 4,
 "nbformat_minor": 5
}
