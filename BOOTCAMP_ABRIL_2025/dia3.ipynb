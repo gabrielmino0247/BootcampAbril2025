{
 "cells": [
  {
   "cell_type": "code",
   "execution_count": 5,
   "id": "64f4278f",
   "metadata": {},
   "outputs": [
    {
     "name": "stdout",
     "output_type": "stream",
     "text": [
      " mensaje 9 am\n"
     ]
    }
   ],
   "source": [
    "#challenge\n",
    "\n",
    "## crear una funcion que imprima la variable palabra\n",
    "\n",
    "palabra = ' mensaje 9 am'\n",
    "\n",
    "def imprimir_var():\n",
    "    print(palabra)\n",
    "#\n",
    "\n",
    "imprimir_var()\n",
    "## el nombro la variable y el nombre de su funcion igual y por eso no le funcion[o]\n",
    "\n",
    "#version2 esta mal, debe cargarse si o si en la palabra\n",
    "\n",
    "# def imprimir_var2(word):\n",
    "#     palabras = 'aca se guarda en la variable'\n",
    "#     print(f'holaa la palabra es {palabras}') # se imprime la variable\n",
    "\n",
    "# imprimir_var2('hola')\n",
    "\n",
    "\n"
   ]
  },
  {
   "cell_type": "code",
   "execution_count": 6,
   "id": "4ccfc972",
   "metadata": {},
   "outputs": [
    {
     "name": "stdout",
     "output_type": "stream",
     "text": [
      "los valores son iguales\n",
      "los valores no son iguales\n"
     ]
    }
   ],
   "source": [
    "##challenge \n",
    "#crear una funcion\n",
    "#que recibda dos parametros, dos letras\n",
    "#verificar si son iguales\n",
    "    #si son iguales imprimir eso sino lo otro\n",
    "\n",
    "def verificar_similitud(letra1, letra2):\n",
    "    if letra1 == letra2:\n",
    "        print('los valores son iguales')\n",
    "    else:\n",
    "        print('los valores no son iguales')\n",
    "\n",
    "verificar_similitud('s','s')\n",
    "verificar_similitud('t','g')\n"
   ]
  },
  {
   "cell_type": "markdown",
   "id": "662d0145",
   "metadata": {},
   "source": [
    "## RETURN\n",
    "\n",
    "- sirve para devolver un valor de una función, el cual puede ser de cualquier tipo de dato.\n",
    "- se puede usar en cualquier parte de la función, pero solo se ejecutará la primera vez que se encuentre.\n",
    "- si se usa fuera de una función, se generará un error.\n",
    "- si no se usa, la función devolverá None por defecto."
   ]
  },
  {
   "cell_type": "code",
   "execution_count": 7,
   "id": "c0004d90",
   "metadata": {},
   "outputs": [
    {
     "data": {
      "text/plain": [
       "13"
      ]
     },
     "execution_count": 7,
     "metadata": {},
     "output_type": "execute_result"
    }
   ],
   "source": [
    "#ejemplo de return\n",
    "def suma(a, b):\n",
    "    return a + b\n",
    "\n",
    "suma(5,8)"
   ]
  },
  {
   "cell_type": "code",
   "execution_count": 13,
   "id": "ba5aa49a",
   "metadata": {},
   "outputs": [
    {
     "name": "stdout",
     "output_type": "stream",
     "text": [
      "False\n",
      "True\n"
     ]
    }
   ],
   "source": [
    "#challenge\n",
    "## crear una funcion\n",
    "## que reciba dos parametros\n",
    "## una palabra y un numero\n",
    "## retornar true si el numero es igual a la cantidad de letras en la palabra. sino false\n",
    "\n",
    "def match_longitud_palabra(palabra, numero):\n",
    "    if len(palabra) == numero:\n",
    "        return True\n",
    "    else:\n",
    "        return False\n",
    "\n",
    "\n",
    "print(match_longitud_palabra('hola',2))\n",
    "print(match_longitud_palabra('hola',4))\n",
    "\n"
   ]
  },
  {
   "cell_type": "code",
   "execution_count": null,
   "id": "0fe71d52",
   "metadata": {},
   "outputs": [
    {
     "name": "stdout",
     "output_type": "stream",
     "text": [
      "[['h', 'o', 'l', 'a']]\n",
      "[['h', 'o', 'l', 'a'], ['c', 'h', 'a', 'u']]\n",
      "[['h', 'o', 'l', 'a'], ['c', 'h', 'a', 'u'], ['b', 'b', 'y', 'e']]\n"
     ]
    }
   ],
   "source": [
    "# palabra_a_encontrar = input('ingrese palabra a encontrar')\n",
    "\n",
    "# palabra_a_ingresar = input('ingrese palabra a ingresar')\n",
    "\n",
    "# lista_de_palabras_a_encontrar = list(palabra_a_encontrar)\n",
    "\n",
    "# \n",
    "\n",
    "\n",
    "# Challenge 5 🤺 - 25m\n",
    "# Pedir al usuario que ingrese 1 palabra, luego \n",
    "# convertir esa palabra a una lista con sus caracteres con list().\n",
    "#  Agregar esa lista de caracteres a una lista llamada \"\"palabras_ingresadas\"\"\".\n",
    "#  Repetir el proceso 3 veces. \n",
    "# \n",
    "# Cada vez que se agregue una lista de caracteres, \n",
    "#   imprimir la lista palabras_ingresadas.\n",
    "\n",
    "\n",
    "# Ejemplo del resultado esperado:\n",
    "\n",
    "# [['c', 'i', 'e', 'l', 'o']]\n",
    "#  # Al ingresar la primera palabra\n",
    "\n",
    "# [['c', 'i', 'e', 'l', 'o'], ['c', 'a', 'l', 'o', 'r']]\n",
    "#  # Al ingresar la segunda palabra\n",
    "\n",
    "# [['c', 'i', 'e', 'l', 'o'], ['c', 'a', 'l', 'o', 'r'], ['n', 'u', 'b', 'e', 's']]\n",
    "#  # Al ingresar la tercera palabra\n",
    "palabras_ingresadas =[]\n",
    "\n",
    "for i in range(3):\n",
    "    palabra_a_ingresar = input('ingrese palabra a ingresar')\n",
    "    listado_de_la_palabra= list(palabra_a_ingresar)\n",
    "    ##print(listado_de_la_palabra)\n",
    "    palabras_ingresadas.append(listado_de_la_palabra)\n",
    "    print(palabras_ingresadas)\n"
   ]
  },
  {
   "cell_type": "code",
   "execution_count": null,
   "id": "ceb6049f",
   "metadata": {},
   "outputs": [
    {
     "ename": "TypeError",
     "evalue": "string indices must be integers, not 'str'",
     "output_type": "error",
     "traceback": [
      "\u001b[31m---------------------------------------------------------------------------\u001b[39m",
      "\u001b[31mTypeError\u001b[39m                                 Traceback (most recent call last)",
      "\u001b[36mCell\u001b[39m\u001b[36m \u001b[39m\u001b[32mIn[35]\u001b[39m\u001b[32m, line 31\u001b[39m\n\u001b[32m     26\u001b[39m palabra_secreta = \u001b[33m'\u001b[39m\u001b[33mholas\u001b[39m\u001b[33m'\u001b[39m\n\u001b[32m     28\u001b[39m palabra_ingresada = \u001b[38;5;28minput\u001b[39m(\u001b[33m'\u001b[39m\u001b[33mescribi la palabra de 5 letras\u001b[39m\u001b[33m'\u001b[39m)\n\u001b[32m---> \u001b[39m\u001b[32m31\u001b[39m verificacion = \u001b[43mobtener_fila_verificada\u001b[49m\u001b[43m(\u001b[49m\u001b[43mpalabra_secreta\u001b[49m\u001b[43m,\u001b[49m\u001b[43m \u001b[49m\u001b[43mpalabra_ingresada\u001b[49m\u001b[43m)\u001b[49m\n\u001b[32m     32\u001b[39m \u001b[38;5;28mprint\u001b[39m(verificacion)\n",
      "\u001b[36mCell\u001b[39m\u001b[36m \u001b[39m\u001b[32mIn[35]\u001b[39m\u001b[32m, line 13\u001b[39m, in \u001b[36mobtener_fila_verificada\u001b[39m\u001b[34m(palabra_a_encontrar, palabra_ingresada)\u001b[39m\n\u001b[32m      9\u001b[39m \u001b[38;5;66;03m#se recorre cada posicion de la palabra\u001b[39;00m\n\u001b[32m     10\u001b[39m \u001b[38;5;28;01mfor\u001b[39;00m posicion \u001b[38;5;129;01min\u001b[39;00m palabra_a_encontrar:\n\u001b[32m     11\u001b[39m \n\u001b[32m     12\u001b[39m     \u001b[38;5;66;03m#comparar las letras en la misma posicion\u001b[39;00m\n\u001b[32m---> \u001b[39m\u001b[32m13\u001b[39m     palabra_pos_valor_coincide = \u001b[43mpalabra_a_encontrar\u001b[49m\u001b[43m[\u001b[49m\u001b[43mposicion\u001b[49m\u001b[43m]\u001b[49m == palabra_ingresada[posicion]\n\u001b[32m     15\u001b[39m     palabra_solo_valor = palabra_ingresada[posicion] \u001b[38;5;129;01min\u001b[39;00m palabra_a_encontrar\n\u001b[32m     17\u001b[39m     \u001b[38;5;28;01mif\u001b[39;00m palabra_pos_valor_coincide:\n",
      "\u001b[31mTypeError\u001b[39m: string indices must be integers, not 'str'"
     ]
    }
   ],
   "source": [
    "##crear lista vacia. para las letras de la palabra luego de ser verificar\n",
    "#crear una funcion que contenga dos parametros\n",
    "def obtener_fila_verificada(palabra_a_encontrar,palabra_ingresada):\n",
    "\n",
    "    #definir la cantidad de letras de la palabra a encontrar\n",
    "    cantidad_letras = 5\n",
    "    #crear una lista vacia para guardar las letras verificadas\n",
    "    letras_verificadas = []\n",
    "    #se recorre cada posicion de la palabra\n",
    "    for posicion in palabra_a_encontrar:\n",
    "\n",
    "        #comparar las letras en la misma posicion\n",
    "        palabra_pos_valor_coincide = palabra_a_encontrar[posicion] == palabra_ingresada[posicion]\n",
    "\n",
    "        palabra_solo_valor = palabra_ingresada[posicion] in palabra_a_encontrar\n",
    "\n",
    "        if palabra_pos_valor_coincide:\n",
    "            letras_verificadas.append('['+palabra_ingresada[posicion] +']')\n",
    "        elif palabra_solo_valor:\n",
    "            letras_verificadas.append('('+palabra_ingresada[posicion] +')')\n",
    "        else:\n",
    "            letras_verificadas.append(palabra_ingresada[posicion])\n",
    "        #se verifica si la palabra existe en la palabra\n",
    "    return letras_verificadas\n",
    "\n",
    "palabra_secreta = 'holas'\n",
    "\n",
    "palabra_ingresada = input('escribi la palabra de 5 letras')\n",
    "\n",
    "\n",
    "\n"
   ]
  },
  {
   "cell_type": "markdown",
   "id": "bf956712",
   "metadata": {},
   "source": [
    "Challenge 6 🤺 - 25m\n",
    "Dada la lista de ejemplo: \n",
    "\n",
    "lista = [['h', 'o', 'l', 'i', 's'], ['h', 'e', 'l', 'l', 'o'], ['h', 'a', 'l', 'l', 'o']]\n",
    "\n",
    "Crear una función que imprima una grilla (lista de listas), una línea por cada lista dentro de la lista principal.\n",
    "\n",
    "Ejemplo del resultado esperado:\n",
    "\n",
    "- ['h', 'o', 'l', 'i', 's']\n",
    "- ['h', 'e', 'l', 'l', 'o']\n",
    "- ['h', 'a', 'l', 'l', 'o']"
   ]
  },
  {
   "cell_type": "code",
   "execution_count": 28,
   "id": "c9e0fda1",
   "metadata": {},
   "outputs": [
    {
     "name": "stdout",
     "output_type": "stream",
     "text": [
      "['h', 'o', 'l', 'i', 's']\n",
      "['h', 'e', 'l', 'l', 'o']\n",
      "['h', 'a', 'l', 'l', 'o']\n"
     ]
    }
   ],
   "source": [
    "# #lista dd ejemplo\n",
    "lista_ejemplo = [['h', 'o', 'l', 'i', 's'], ['h', 'e', 'l', 'l', 'o'], ['h', 'a', 'l', 'l', 'o']]\n",
    "\n",
    "# #crear funcion que imprima la lista de listas una linea por cada lista.\n",
    "def imprimir_salto_de_linea(lista_a_imprimir):\n",
    "    print(lista_a_imprimir[0])\n",
    "    print(lista_a_imprimir[1])\n",
    "    print(lista_a_imprimir[2])\n",
    "\n",
    "imprimir_salto_de_linea(lista_ejemplo)\n"
   ]
  },
  {
   "cell_type": "code",
   "execution_count": null,
   "id": "e3dbc15a",
   "metadata": {},
   "outputs": [
    {
     "name": "stdout",
     "output_type": "stream",
     "text": [
      "['h', 'o', 'l', 'i', 's']\n",
      "['h', 'e', 'l', 'l', 'o']\n",
      "['h', 'a', 'l', 'l', 'o']\n"
     ]
    }
   ],
   "source": [
    "# #lista dd ejemplo\n",
    "lista_ejemplo = [['h', 'o', 'l', 'i', 's'], ['h', 'e', 'l', 'l', 'o'], ['h', 'a', 'l', 'l', 'o']]\n",
    "\n",
    "# #crear funcion que imprima la lista de listas una linea por cada lista.\n",
    "def imprimir_con_salto(lista_a_imprimir):\n",
    "    for i in lista_a_imprimir:\n",
    "        lista = list(i)\n",
    "        print(lista)\n",
    "\n",
    "imprimir_con_salto(lista_ejemplo)\n",
    "\n",
    "\n"
   ]
  },
  {
   "cell_type": "code",
   "execution_count": null,
   "id": "f80d7bdb",
   "metadata": {},
   "outputs": [],
   "source": []
  },
  {
   "cell_type": "code",
   "execution_count": 128,
   "id": "78470f8d",
   "metadata": {},
   "outputs": [
    {
     "name": "stdout",
     "output_type": "stream",
     "text": [
      "bienvenido al juego adivina la palabra penguin edition...\n",
      "      Las reglas son simples: adivina la palabra oculta en 6 intentos.\n",
      "      pista: la palabra termina en: s\n",
      "      deben ser palabras con 5 letras\n",
      "\n",
      "['[r]', '[o]', 'c', '[a]', '[s]']\n",
      "quedan 5 intentos\n",
      "['[r]', '[o]', 'c', '[a]', '[s]']\n",
      "['l', '[o]', 'c', '[a]', '[s]']\n",
      "quedan 4 intentos\n",
      "WINNER!!!!!\n",
      "la palabra es: rosas\n"
     ]
    }
   ],
   "source": [
    "#definir la palabra completa\n",
    "palabra_secreta= 'rosas'  \n",
    "#input('ingresar palabra secreta: ') para despues mejorar\n",
    "\n",
    "\n",
    "#definir cantidad de letra\n",
    "cantidad_de_letras = 5  \n",
    "#len(palabra_secreta) (por si se da el input)\n",
    "\n",
    "#definir intentos\n",
    "total_intentos = 6\n",
    "\n",
    "#inicializar lista de progreso\n",
    "letras_verificadas = []\n",
    "\n",
    "#generar una pista (el ultimo caracter, tomalo o dejalo)\n",
    "pista= list(palabra_secreta)\n",
    "pista_final = pista.pop()\n",
    "#mostrar welcome\n",
    "print(f'''bienvenido al juego adivina la palabra penguin edition...\n",
    "      Las reglas son simples: adivina la palabra oculta en {total_intentos} intentos.\n",
    "      pista: la palabra termina en: {pista_final}\n",
    "      deben ser palabras con {cantidad_de_letras} letras\n",
    "''' )\n",
    "\n",
    "\n",
    "\n",
    "#funcion de verificacion para ayudar al usuario a encontrar la palabra\n",
    "def validar_datos(palabra_definida, palabra_a_ingresar):\n",
    "    letras_verificadas = []\n",
    "    #verificamos si coinciden los valores y posiciones y damos el formato adecuado '[]' para posicion y valor correcto y '()' para valor correcto posicion equivocada\n",
    "    for posicion in range(cantidad_de_letras):\n",
    "        verifica_valor_y_posicion = palabra_definida[posicion] == palabra_a_ingresar[posicion]\n",
    "        verifica_valor = palabra_a_ingresar[posicion] in palabra_definida\n",
    "        #adjuntar [] si coincide en valor y posicion\n",
    "        if verifica_valor_y_posicion:\n",
    "            letras_verificadas.append('['+ palabra_a_ingresar[posicion] +']')\n",
    "        elif verifica_valor:#adjuntar () si coincide en valor pero no posicion\n",
    "            letras_verificadas.append('(' + palabra_a_ingresar[posicion] + ')')\n",
    "        else: #sino asi mismo vuelve a imprimirse el caracter\n",
    "            letras_verificadas.append(palabra_a_ingresar[posicion])\n",
    "    return letras_verificadas \n",
    "\n",
    "##funcion para mostrar historic o \n",
    "def imprimir_con_salto(lista_a_imprimir):\n",
    "    for historico in lista_a_imprimir:\n",
    "        lista = list(historico)\n",
    "        print(lista)\n",
    "\n",
    "estatus =[]\n",
    "#programa de intentos\n",
    "# aqui empieza realmente el juego\n",
    "while True:\n",
    "    palabra_usuario = input('ingrese la palabra: ') # ingresa aqui recien el valor\n",
    "    palabra_usuario = palabra_usuario.lower() #por si escribe en mayuscula el \n",
    "    if palabra_usuario == palabra_secreta: #si coincide entonces ganaste y chau\n",
    "        print('WINNER!!!!!')\n",
    "        print(f'la palabra es: {palabra_secreta}')  \n",
    "        break\n",
    "    else: #si no ganó ahi recien entra en la funcion de pistas por verificacion\n",
    "        total_intentos = total_intentos - 1  #restamos vidas\n",
    "        estatus.append(validar_datos(palabra_secreta, palabra_usuario)) #estatus means las pistas de valor y posicion\n",
    "        imprimir_con_salto(estatus)\n",
    "        print(f'quedan {total_intentos} intentos')\n",
    "        if total_intentos == 0: \n",
    "            print('game over')\n",
    "            break"
   ]
  }
 ],
 "metadata": {
  "kernelspec": {
   "display_name": "Python 3",
   "language": "python",
   "name": "python3"
  },
  "language_info": {
   "codemirror_mode": {
    "name": "ipython",
    "version": 3
   },
   "file_extension": ".py",
   "mimetype": "text/x-python",
   "name": "python",
   "nbconvert_exporter": "python",
   "pygments_lexer": "ipython3",
   "version": "3.13.3"
  }
 },
 "nbformat": 4,
 "nbformat_minor": 5
}
