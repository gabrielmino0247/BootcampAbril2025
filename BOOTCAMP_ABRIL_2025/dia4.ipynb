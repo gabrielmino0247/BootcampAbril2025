{
 "cells": [
  {
   "cell_type": "markdown",
   "id": "76781467",
   "metadata": {},
   "source": [
    "# diccionarios\n",
    "\n",
    "- Un diccionario es una colección de pares clave-valor.\n",
    "- Las claves son únicas y se utilizan para acceder a los valores asociados.\n",
    "- Los valores pueden ser de cualquier tipo de dato.\n",
    "- Se definen utilizando llaves `{}` y los pares clave-valor se separan por comas.\n",
    "- Se pueden anidar diccionarios dentro de otros diccionarios.\n",
    "- Se pueden utilizar métodos como `keys()`, `values()` y `items()` para acceder a las claves, valores y pares clave-valor respectivamente.\n",
    "- Los diccionarios son mutables, lo que significa que se pueden modificar después de su creación.\n",
    "- Se pueden agregar, modificar y eliminar elementos utilizando las claves.\n",
    "- ejemplo: \n",
    "```python\n",
    "# Definición de un diccionario\n",
    "mi_diccionario = {\n",
    "    \"nombre\": \"Juan\",\n",
    "    \"edad\": 30,\n",
    "    \"ciudad\": \"Madrid\"\n",
    "}\n",
    "# Acceso a los valores utilizando las claves\n",
    "print(mi_diccionario[\"nombre\"])  # Salida: Juan\n",
    "print(mi_diccionario[\"edad\"])    # Salida: 30\n",
    "print(mi_diccionario[\"ciudad\"])  # Salida: Madrid\n",
    "\n",
    "# Modificación de un valor\n",
    "mi_diccionario[\"edad\"] = 31\n",
    "print(mi_diccionario[\"edad\"])    # Salida: 31\n",
    "\n",
    "# Agregar un nuevo par clave-valor\n",
    "mi_diccionario[\"profesion\"] = \"Ingeniero\"\n",
    "print(mi_diccionario[\"profesion\"])  # Salida: Ingeniero\n",
    "\n",
    "# Eliminar un par clave-valor\n",
    "del mi_diccionario[\"ciudad\"]\n",
    "\n",
    "print(mi_diccionario)  # Salida: {'nombre': 'Juan', 'edad': 31, 'profesion': 'Ingeniero'}\n",
    "\n",
    "#uso de keys\n",
    "print(mi_diccionario.keys())  # Salida: dict_keys(['nombre', 'edad', 'profesion'])\n",
    "print(mi_diccionario.values())  # Salida: dict_values(['Juan', 31, 'Ingeniero'])\n",
    "print(mi_diccionario.items())  # Salida: dict_items([('nombre', 'Juan'), ('edad', 31), ('profesion', 'Ingeniero')])\n",
    "```\n",
    "la diferencia entre items y keys es que items devuelve una lista de tuplas con los pares clave-valor, mientras que keys devuelve solo las claves del diccionario.\n",
    "\n",
    "- Los diccionarios son útiles para almacenar datos estructurados y realizar búsquedas rápidas basadas en claves.\n",
    "- Se utilizan comúnmente en aplicaciones web, procesamiento de datos y almacenamiento de configuraciones.\n",
    "- Los diccionarios son una de las estructuras de datos más utilizadas en Python debido a su flexibilidad y eficiencia.\n",
    "- Se pueden utilizar en combinación con otras estructuras de datos, como listas y conjuntos, para crear estructuras más complejas.\n",
    "- Los diccionarios son una parte fundamental de la programación en Python y se utilizan en una amplia variedad de aplicaciones y proyectos.\n",
    "- Se pueden utilizar para representar objetos, configuraciones, datos JSON y mucho más.\n",
    "\n",
    "\n",
    "\n",
    "    "
   ]
  },
  {
   "cell_type": "code",
   "execution_count": 2,
   "id": "4233e525",
   "metadata": {},
   "outputs": [
    {
     "name": "stdout",
     "output_type": "stream",
     "text": [
      "{'nombre': 'Laura', 'apellido': 'gomez', 'celular': '0981091500', 'edad': 25}\n"
     ]
    }
   ],
   "source": [
    "#definicion de un diccionario\n",
    "\n",
    "mi_contacto = {'nombre':'Laura','apellido':'gomez','celular':'0981091500','edad':25}\n",
    "\n",
    "print(mi_contacto)"
   ]
  },
  {
   "cell_type": "code",
   "execution_count": null,
   "id": "44b63a8b",
   "metadata": {},
   "outputs": [],
   "source": [
    "#otra forma de estructurar para practicidad\n",
    "\n",
    "mi_contacto = {\n",
    "    'nombre':'Laura',\n",
    "    'apellido':'gomez',\n",
    "    'celular':'0981091500',\n",
    "    'edad':25\n",
    "    }\n",
    "\n",
    "print(mi_contacto)"
   ]
  },
  {
   "cell_type": "code",
   "execution_count": null,
   "id": "ae86362c",
   "metadata": {},
   "outputs": [
    {
     "data": {
      "text/plain": [
       "'0981091500'"
      ]
     },
     "execution_count": 3,
     "metadata": {},
     "output_type": "execute_result"
    }
   ],
   "source": [
    "##acceder al dato del diccionario /se hace a travez de su clave\n",
    "mi_contacto['nombre']\n",
    "mi_contacto['celular']\n",
    "\n"
   ]
  },
  {
   "cell_type": "code",
   "execution_count": 4,
   "id": "b50ae856",
   "metadata": {},
   "outputs": [
    {
     "data": {
      "text/plain": [
       "dict_items([('nombre', 'Laura'), ('apellido', 'gomez'), ('celular', '0981091500'), ('edad', 25)])"
      ]
     },
     "execution_count": 4,
     "metadata": {},
     "output_type": "execute_result"
    }
   ],
   "source": [
    "##desplegar datos del diccionario\n",
    "\n",
    "mi_contacto.keys()\n",
    "mi_contacto.values()\n",
    "mi_contacto.items()\n"
   ]
  },
  {
   "cell_type": "code",
   "execution_count": null,
   "id": "362f0121",
   "metadata": {},
   "outputs": [
    {
     "name": "stdout",
     "output_type": "stream",
     "text": [
      "{'nombre': 'Laura', 'apellido': 'gomez', 'celular': '0981091500', 'edad': 25, 'direccion': 'Sacramento edificio dot'}\n"
     ]
    }
   ],
   "source": [
    "#cargar nuevo dato\n",
    "\n",
    "mi_contacto['direccion'] = 'Sacramento edificio dot'\n",
    "\n",
    "print(mi_contacto)"
   ]
  },
  {
   "cell_type": "code",
   "execution_count": 8,
   "id": "95c147c7",
   "metadata": {},
   "outputs": [
    {
     "name": "stdout",
     "output_type": "stream",
     "text": [
      "{'nombre': 'Laura', 'apellido': 'gomez', 'celular': '0982685852', 'edad': 25, 'direccion': 'Sacramento edificio dot'}\n"
     ]
    }
   ],
   "source": [
    "##actualizar el dato\n",
    "mi_contacto['celular']= '0982685852'\n",
    "\n",
    "print(mi_contacto)"
   ]
  },
  {
   "cell_type": "code",
   "execution_count": null,
   "id": "a0a3769c",
   "metadata": {},
   "outputs": [
    {
     "name": "stdout",
     "output_type": "stream",
     "text": [
      "{'nombre': ''}\n",
      "{'nombre': '', 'apellido': ''}\n",
      "{'nombre': '', 'apellido': '', 'sexo': 'F'}\n",
      "{'nombre': '', 'apellido': '', 'sexo': 'F', 'telefono': '456464'}\n",
      "{'nombre': '', 'apellido': '', 'sexo': 'F', 'telefono': '456464'}\n"
     ]
    }
   ],
   "source": [
    "##challenge\n",
    "\n",
    "#escribir un programa que cree un diccionario vacio \n",
    "\n",
    "# y lo vaya llenando con ifnormacion sobre una persona\n",
    "#\n",
    "\n",
    "#cada vez que se a;ada un nuevo dato debe imprimirse el contenido del diccionario\n",
    "\n",
    "#crear diccionario vacio\n",
    "datos_personales = {}\n",
    "\n",
    "#definir datos\n",
    "#nombre \\   apellido  \\ sexo \\ telefono \n",
    "\n",
    "#validar datos\n",
    "#validar sexo\n",
    "#debe ser solo M o F\n",
    "def validar_sexo(dato):\n",
    "    while dato != 'F' and dato != 'M':\n",
    "        dato = input('sexo mal ingresado, ingrese solo \"M\" o \"F\"')\n",
    "    return dato\n",
    "\n",
    "#pedir al usuario el ingreso de los datos\n",
    "datos_personales['nombre']= input('ingrese su nombre ')\n",
    "print(datos_personales)\n",
    "datos_personales['apellido']=input('ingrese su apellido ')\n",
    "print(datos_personales)\n",
    "datos_personales['sexo']=validar_sexo(input('ingrese su sexo SOLO F o M '))\n",
    "print(datos_personales)\n",
    "datos_personales['telefono']=input('ingrese su telefono ')\n",
    "print(datos_personales)\n",
    "\n",
    "\n",
    "ingresar_mas_datos = input('quiere ingresar algun otro dato mas? escriba \"SI\" o \"NO\"').upper()\n",
    "while ingresar_mas_datos == 'SI':\n",
    "    nuevo_topico = input('ingrese el titulo del dato que desea añadir')\n",
    "    nuevo_valor = input(f'ingrese los datos de {nuevo_topico}')\n",
    "    datos_personales[nuevo_topico] = nuevo_valor\n",
    "    print(datos_personales)\n",
    "    ingresar_mas_datos = input('desea añadir mas datos? escriba SI o NO')\n",
    "\n",
    "print(datos_personales)\n",
    "\n",
    "# def ingresar_datos(clave, valor):\n",
    "\n",
    "\n"
   ]
  },
  {
   "cell_type": "code",
   "execution_count": null,
   "id": "4d5cfabf",
   "metadata": {},
   "outputs": [
    {
     "name": "stdout",
     "output_type": "stream",
     "text": [
      "{'nombre': 'ale'}\n",
      "{'nombre': 'ale', 'apellido': 'arriola'}\n"
     ]
    }
   ],
   "source": [
    "#crear una tarjeta personal. en input va elegir\n",
    "\n",
    "\n",
    "#modificar datos\n",
    "#eliminar datos\n",
    "\n",
    "#funcion para validar datos\n",
    "def validar_dato(dato):\n",
    "    '''\n",
    "    funcion para validar el ingreso de datos para los procesos\n",
    "    '''\n",
    "    while dato != 'C' and dato != 'M' and dato != 'E'and dato != 'F':\n",
    "        dato = input('''SOLO debe ingresar una letra...\n",
    "                    vuelva a intentar, recuerde que \n",
    "                    si quiere añadir mas datos ingrese \"C\" \n",
    "                    si quiere modificar un dato oprima \"M\" \n",
    "                    si quiere eliminar oprima \"E\"\n",
    "                    Si desea finalizar oprima \"F\" \n",
    "                     ''').upper()\n",
    "    return dato\n",
    "\n",
    "\n",
    "# validamos existencia en diccionario\n",
    "def validar_keys(dato,diccionario_keys):\n",
    "    '''\n",
    "    funcion para validar claves\n",
    "    '''\n",
    "    while not(dato in diccionario_keys) and dato.lower() != 'f':\n",
    "        dato = input('ingrese un dato correcto.. vuelva a intentar o en su defecto oprima \"F\" para terminar')\n",
    "        print(diccionario_keys)\n",
    "    return dato\n",
    "# C para crear\n",
    "# M para modificar\n",
    "# E eliminar\n",
    "# L listar\n",
    "\n",
    "input('BIENVENIDO AL ELABORADOR DE TARJETAS PERSONALES, VAMOS A CREARLE UNA TARJETA. APRETE ENTER PARA CONTINUAR...')\n",
    "tarjeta = {}\n",
    "#crear el primer dato\n",
    "clave = input('\\n ingrese que titulo desea ingresar... ')\n",
    "valor = input(f'\\n ingrese su {clave}: ')\n",
    "print('\\n')\n",
    "tarjeta[clave] = valor\n",
    "print(tarjeta)\n",
    "\n",
    "while True:\n",
    "    # # vamos a pedirle que ingrese que datos quiere\n",
    "    # clave = input('ingrese que titulo desea ingresar...')\n",
    "    # valor = input(f'ingrese el valor de {clave}...')\n",
    "    # tarjeta[clave] = valor\n",
    "    # print(tarjeta)\n",
    "    decision = validar_dato(input('''\n",
    "                                  \n",
    "si quiere añadir mas datos ingrese \"C\"; \n",
    "si quiere modificar un dato oprima \"M\" \n",
    "y si quiere eliminar oprima \"E\".'\n",
    "Si desea finalizar oprima \"F\"\n",
    "\n",
    "ingrese la letra: ''').upper())\n",
    "    if decision.upper() == 'C':#crear datos nuevos\n",
    "        clave = input('ingrese que titulo desea ingresar: ')\n",
    "        valor = input(f'\\n ingrese el valor de {clave}:')\n",
    "        tarjeta[clave] = valor\n",
    "        print(tarjeta)\n",
    "        print('\\n')\n",
    "        #debe simplemente cargar mas datos\n",
    "        continue\n",
    "    elif decision.upper() == 'M': #modificar valores\n",
    "        #debe poder modificar\n",
    "        #se debe validar el ingreso de las claves\n",
    "        # comparar con las keys y si no coincide hacer una validacion\n",
    "        print(tarjeta.keys())\n",
    "        dato_a_modificar = validar_keys(input('\\n elija el titulo a modificar: '),tarjeta.keys())\n",
    "        if dato_a_modificar.upper() == 'F':\n",
    "            print(f'\\n la lista final queda asi: \\n {tarjeta}')\n",
    "            break\n",
    "        else:\n",
    "            tarjeta[dato_a_modificar] = input(f'\\n ingrese el nuevo {dato_a_modificar}: ')\n",
    "            print(tarjeta)\n",
    "            print('\\n')\n",
    "    elif decision.upper() == 'E':\n",
    "        print(tarjeta.keys())\n",
    "        dato_a_eliminar = validar_keys(input('\\n elija el dato a eliminar: '),tarjeta.keys())\n",
    "        if dato_a_eliminar.upper() == 'F':\n",
    "            print(f'\\n la lista final queda asi: \\n {tarjeta}')\n",
    "            break\n",
    "        else:\n",
    "            print(f'\\n se va eliminar {dato_a_eliminar}')\n",
    "            del tarjeta[dato_a_eliminar]\n",
    "            print(f'queda de la siguiente forma: \\n {tarjeta}')\n",
    "            print('\\n')\n",
    "    elif decision.upper() == 'F':\n",
    "        print(f'\\n la lista final queda asi: \\n {tarjeta}')\n",
    "        break\n",
    "\n",
    "\n",
    "\n",
    "\n"
   ]
  },
  {
   "cell_type": "markdown",
   "id": "8331ac74",
   "metadata": {},
   "source": [
    "## crear una agenda de contactos. el usuario puede elegir\n",
    "mostrar\n",
    "crear\n",
    "modificar"
   ]
  },
  {
   "cell_type": "code",
   "execution_count": null,
   "id": "43d74764",
   "metadata": {},
   "outputs": [
    {
     "ename": "KeyError",
     "evalue": "'contacto1'",
     "output_type": "error",
     "traceback": [
      "\u001b[31m---------------------------------------------------------------------------\u001b[39m",
      "\u001b[31mKeyError\u001b[39m                                  Traceback (most recent call last)",
      "\u001b[36mCell\u001b[39m\u001b[36m \u001b[39m\u001b[32mIn[39]\u001b[39m\u001b[32m, line 43\u001b[39m\n\u001b[32m     41\u001b[39m nombre = \u001b[38;5;28minput\u001b[39m(\u001b[33m'\u001b[39m\u001b[33mIngrese el nombre del contacto: \u001b[39m\u001b[33m'\u001b[39m)\n\u001b[32m     42\u001b[39m numero = \u001b[38;5;28minput\u001b[39m(\u001b[33mf\u001b[39m\u001b[33m'\u001b[39m\u001b[33mIngrese el numero de \u001b[39m\u001b[38;5;132;01m{\u001b[39;00mnombre\u001b[38;5;132;01m}\u001b[39;00m\u001b[33m: \u001b[39m\u001b[33m'\u001b[39m)\n\u001b[32m---> \u001b[39m\u001b[32m43\u001b[39m \u001b[43magenda\u001b[49m\u001b[43m[\u001b[49m\u001b[33;43m'\u001b[39;49m\u001b[33;43mcontacto\u001b[39;49m\u001b[33;43m'\u001b[39;49m\u001b[43m+\u001b[49m\u001b[38;5;28;43mstr\u001b[39;49m\u001b[43m(\u001b[49m\u001b[43mi\u001b[49m\u001b[43m)\u001b[49m\u001b[43m]\u001b[49m[\u001b[33m'\u001b[39m\u001b[33mnombre\u001b[39m\u001b[33m'\u001b[39m]= nombre\n\u001b[32m     44\u001b[39m agenda[\u001b[33m'\u001b[39m\u001b[33mcontacto\u001b[39m\u001b[33m'\u001b[39m+\u001b[38;5;28mstr\u001b[39m(i)][\u001b[33m'\u001b[39m\u001b[33mnumero\u001b[39m\u001b[33m'\u001b[39m]= nombre\n\u001b[32m     45\u001b[39m \u001b[38;5;28mprint\u001b[39m(agenda)\n",
      "\u001b[31mKeyError\u001b[39m: 'contacto1'"
     ]
    }
   ],
   "source": [
    "\n",
    "    #onboarding\n",
    "def validar_dato_c3(dato):\n",
    "    '''\n",
    "    funcion para validar el ingreso de datos para los procesos\n",
    "    '''\n",
    "    while dato not in ('L', 'C', 'M'):\n",
    "        dato = input('''\n",
    "        SOLO debe ingresar una letra...\n",
    "        vuelva a intentar, recuerde que \n",
    "        si quiere LISTAR contactos ingrese \"L\" \n",
    "        si quiere MODIFICAR oprima \"M\"\n",
    "        Si desea CREAR oprima \"C\" \n",
    "    \n",
    "        ''').upper()\n",
    "    return dato\n",
    "\n",
    "def validar_keys_c3(dato,diccionario_keys):\n",
    "    '''\n",
    "    funcion para validar claves\n",
    "    '''\n",
    "    while not(dato in diccionario_keys) and dato.lower() != 'f':\n",
    "        dato = input('ingrese un dato correcto.. vuelva a intentar o en su defecto oprima \"F\" para terminar')\n",
    "        print(diccionario_keys)\n",
    "    return dato\n",
    "\n",
    "agenda = {\n",
    "    'contacto1' :{\n",
    "    'nombre': 'angel'\n",
    "    'numero': '0981854'}\n",
    "    }\n",
    "\n",
    "\n",
    "\n",
    "\n",
    "i=1\n",
    "## para cada agenda, inserte datos de contacto\n",
    "        # para cada contacto inserte nombre y numero\n",
    "while True:\n",
    "    decision = validar_dato_c3(input('''\n",
    "                                  \n",
    "si quiere LISTAR contactos ingrese \"L\" \n",
    "si quiere MODIFICAR oprima \"M\"\n",
    "Si desea CREAR oprima \"C\" \n",
    "\n",
    "ingrese la letra: ''').upper())\n",
    "\n",
    "    if decision.upper() == 'C':#crear datos nuevos\n",
    "        nombre = input('Ingrese el nombre del contacto: ')\n",
    "        numero = input(f'Ingrese el numero de {nombre}: ')\n",
    "        agenda['contacto'+str(i)]['nombre']= nombre\n",
    "        agenda['contacto'+str(i)]['numero']= nombre\n",
    "        print(agenda)\n",
    "        i += 1\n",
    "        print('\\n')\n",
    "        #debe simplemente cargar mas datos\n",
    "        continue\n",
    "    elif decision.upper() == 'L': #modificar valores\n",
    "        #debe poder modificar\n",
    "        #se debe validar el ingreso de las claves\n",
    "        # comparar con las keys y si no coincide hacer una validacion\n",
    "        for contacto in agenda:\n",
    "            print('\\n', contacto)\n",
    "    elif decision.upper() == 'M':\n",
    "        dato_a_modificar_agenda = validar_keys_c3(input('\\n elija el nombre del contacto a modificar: '),agenda['nombre']())\n",
    "        if dato_a_modificar_agenda.upper() == 'F':\n",
    "            print(f'\\n la lista final queda asi: \\n {tarjeta}')\n",
    "            break\n",
    "        else:\n",
    "            agenda['contacto'+i]['numero'] = input('\\n ingrese el nuevo numero: ')\n",
    "            print(tarjeta)\n",
    "            print('\\n')\n",
    "    else:\n",
    "        break\n",
    "    "
   ]
  },
  {
   "cell_type": "code",
   "execution_count": null,
   "id": "bf3fad29",
   "metadata": {},
   "outputs": [],
   "source": []
  }
 ],
 "metadata": {
  "kernelspec": {
   "display_name": "Python 3",
   "language": "python",
   "name": "python3"
  },
  "language_info": {
   "codemirror_mode": {
    "name": "ipython",
    "version": 3
   },
   "file_extension": ".py",
   "mimetype": "text/x-python",
   "name": "python",
   "nbconvert_exporter": "python",
   "pygments_lexer": "ipython3",
   "version": "3.13.3"
  }
 },
 "nbformat": 4,
 "nbformat_minor": 5
}
