{
 "cells": [
  {
   "cell_type": "markdown",
   "id": "4bb3b5b0",
   "metadata": {},
   "source": [
    "# PYTHON\n",
    "\n"
   ]
  },
  {
   "cell_type": "code",
   "execution_count": 13,
   "id": "e9c61198",
   "metadata": {},
   "outputs": [
    {
     "name": "stdout",
     "output_type": "stream",
     "text": [
      "HELLO WORLD\n",
      "GOODBYE WORLD\n"
     ]
    }
   ],
   "source": [
    "print(\"HELLO WORLD\") \n",
    "print(\"GOODBYE WORLD\")  "
   ]
  },
  {
   "cell_type": "markdown",
   "id": "021a3ed6",
   "metadata": {},
   "source": [
    "## VARIABLES\n",
    "SE PUEDE INCLUIR LETRTAS, NÚMEROS Y GUINES BAJOS (_)\n",
    "DEBE EMPEZAR CON UNA LETRA O GUION BAJO Y NUNCA CON UN NUMERO\n",
    "EVITAR PALABRAS RESERVADAS (IF, FOR, WHILE, FUNCTION, VAR, LET, CONST, RETURN)\n",
    "USAR NOMBRES DESCRIPTIVOS"
   ]
  },
  {
   "cell_type": "code",
   "execution_count": 14,
   "id": "889402f2",
   "metadata": {},
   "outputs": [
    {
     "name": "stdout",
     "output_type": "stream",
     "text": [
      "Angel Mino\n",
      "Angel Mino\n"
     ]
    }
   ],
   "source": [
    "nombre = \"Angel\"\n",
    "apellido = \"Mino\"\n",
    "print( nombre + \" \" + apellido) ##una forma\n",
    "print(f\"{nombre} {apellido}\") #segunda forma\n",
    "\n",
    "## \"f\" nos ayuda a usar las variables con llave consecuentemente, sino se usan como tal\n",
    "## los signos '+' sirven para concatenacion"
   ]
  },
  {
   "cell_type": "code",
   "execution_count": 9,
   "id": "2c3ba4af",
   "metadata": {},
   "outputs": [
    {
     "name": "stdout",
     "output_type": "stream",
     "text": [
      "manzana\n",
      "5\n",
      "naranja\n"
     ]
    }
   ],
   "source": [
    "frutas = \"manzana\"\n",
    "print(frutas)\n",
    "cantidad_de_frutas = 5\n",
    "print( cantidad_de_frutas)\n",
    "frutas = \"naranja\"\n",
    "print(frutas)"
   ]
  },
  {
   "cell_type": "code",
   "execution_count": 17,
   "id": "b0cdae6c",
   "metadata": {},
   "outputs": [
    {
     "name": "stdout",
     "output_type": "stream",
     "text": [
      "['manzana', 'banana', 'naranja', 'pera']\n",
      "naranja, pera\n"
     ]
    }
   ],
   "source": [
    "frutas = [\"manzana\", \"banana\", \"naranja\", \"pera\"]## forma matriz\n",
    "print(frutas)\n",
    "frutas = \"naranja, pera\" #nueva forma investigar\n",
    "print(frutas)"
   ]
  },
  {
   "cell_type": "markdown",
   "id": "b19e619b",
   "metadata": {},
   "source": [
    "## TIPO DE DATOS\n",
    "- int - integer - 112\n",
    "- float - floating - 3.14\n",
    "- str - string - 'Hello World' / \"Hello world\"\n",
    "- bool - boolean - true / false"
   ]
  },
  {
   "cell_type": "code",
   "execution_count": null,
   "id": "b95a354d",
   "metadata": {},
   "outputs": [
    {
     "name": "stdout",
     "output_type": "stream",
     "text": [
      "465465\n",
      "56456.55\n",
      "'angel'\n",
      "\"angel\"\n"
     ]
    }
   ],
   "source": [
    "numero = 465465\n",
    "numero_decimal = 56456.55\n",
    "nombre = \"'angel'\"\n",
    "nombre2 = '\"angel\"'\n",
    "cajon_abierto = False\n",
    "print(numero)\n",
    "print(numero_decimal)\n",
    "print(nombre)\n",
    "print(nombre2)"
   ]
  },
  {
   "cell_type": "markdown",
   "id": "ba269ecc",
   "metadata": {},
   "source": [
    "## Operaciones aritmeticas\n",
    "\n",
    "- tambien podemos realizar operaciones matemáticas como las calculadoras\n",
    "- python lee la cuenta de izquierda a derecha, y sigue reglas de procedencia, como en matemáticas.\n",
    "\n",
    "    - Tipos:\n",
    "        - SUMA +\n",
    "        - RESTA -\n",
    "        - MULTIPLICACION *\n",
    "        - DIVISION /\n",
    "        - DIVISION ENTERA //\n",
    "        - MODULO %\n",
    "        - EXPONENTE **\n",
    "        - RAIZ CUADRADA sqrt()\n",
    "        - VALOR ABSOLUTO abs()\n",
    "        - REDONDEO round()"
   ]
  },
  {
   "cell_type": "code",
   "execution_count": 34,
   "id": "437e5c30",
   "metadata": {},
   "outputs": [
    {
     "name": "stdout",
     "output_type": "stream",
     "text": [
      "35000\n",
      "30000\n",
      "76000\n",
      "cada persona debera pagar 2533\n"
     ]
    }
   ],
   "source": [
    "precio_total = 15000 + 20000 #suma\n",
    "print(precio_total)\n",
    "\n",
    "precio_descuento = precio_total - 5000 #precio con descuento\n",
    "print(precio_descuento)\n",
    "\n",
    "#second try\n",
    "\n",
    "precio_gaseosa = 19000 #precio gaseosa\n",
    "cantidad_gaseosas = 4   #cantidad de gaseosas a comprar\n",
    "costo_total = precio_gaseosa * cantidad_gaseosas #costo total a comprar\n",
    "cantidad_personas = 30\n",
    "costo_por_persona = costo_total // cantidad_personas #costo por persona\n",
    "\n",
    "print(costo_total)\n",
    "print(f\"cada persona debera pagar {costo_por_persona}\" )"
   ]
  },
  {
   "cell_type": "code",
   "execution_count": 38,
   "id": "e3cc3702",
   "metadata": {},
   "outputs": [
    {
     "name": "stdout",
     "output_type": "stream",
     "text": [
      "35\n",
      "30\n"
     ]
    }
   ],
   "source": [
    "##challenge\n",
    "    #suma\n",
    "cantidad_de_naranjas = 20  #asignacion de cantidad de naranjas\n",
    "cantidad_de_manzanas = 15  #asignacion de cantidad de manzanas\n",
    "\n",
    "cantidad_de_frutas = cantidad_de_manzanas + cantidad_de_naranjas #suma de total de frutas\n",
    "\n",
    "print(cantidad_de_frutas) #impresion de ultima variable\n",
    "\n",
    "    #resta\n",
    "frutas_vendidas = 5  #asignacion de cantidad de frutas vendidas\n",
    "\n",
    "frutas_restantes = cantidad_de_frutas - frutas_vendidas  #operacion de resta de las frutas vendidas de la cantidad de frutas\n",
    "\n",
    "print(frutas_restantes) #impresion de ultima variable\n",
    "\n"
   ]
  },
  {
   "cell_type": "markdown",
   "id": "856a526b",
   "metadata": {},
   "source": [
    "## concatenacion\n",
    "a concatenacion se da solo en textos y basicamente lo que hace es pegar un texto al lado de otro, generalmente se usa en impresiones pero tambien se puede usar para guardar en variables.\n",
    "se da mediante insertando el signo '+' entre textos como union\n"
   ]
  },
  {
   "cell_type": "code",
   "execution_count": 40,
   "id": "9931e523",
   "metadata": {},
   "outputs": [
    {
     "name": "stdout",
     "output_type": "stream",
     "text": [
      "angel mino\n",
      "MI NOMBRE ES angel mino\n",
      "Hola, mi nombre es: angel mino\n",
      "hola mi nombre es:  angel\n"
     ]
    }
   ],
   "source": [
    "nombre = 'angel'\n",
    "apellido = 'mino'\n",
    "nombre_completo = nombre + \" \" + apellido\n",
    "print(nombre_completo)\n",
    "print(\"MI NOMBRE ES \" + nombre + ' '+ apellido) #forma de concatenado\n",
    "print(f'Hola, mi nombre es: {nombre} {apellido}') #forma de f (formato)'Hola, soy {nombre} {apellido}' la variable va dentro de la comilla pero en llaves\n",
    "print('hola mi nombre es: ', nombre) #la coma separa el string y la variable"
   ]
  },
  {
   "cell_type": "code",
   "execution_count": 42,
   "id": "b49a1d65",
   "metadata": {},
   "outputs": [
    {
     "name": "stdout",
     "output_type": "stream",
     "text": [
      "Hola Tobias Rodriguez, mucho gusto conocerte, soy Angel tu compa de al lado\n"
     ]
    }
   ],
   "source": [
    "##challenge 2\n",
    "\n",
    "nombre = 'Tobias'\n",
    "apellido = 'Rodriguez'\n",
    "nombre_completo = nombre + ' ' + apellido\n",
    "print(f'Hola {nombre_completo}, mucho gusto conocerte, soy Angel tu compa de al lado')"
   ]
  },
  {
   "cell_type": "markdown",
   "id": "3e300b7f",
   "metadata": {},
   "source": [
    "## INPUT\n",
    "nos servirá para poder insertar datos a las variables\n",
    "solo devuelve datos tipo cadena en default\n",
    "se pueden convertir los valores de entrada para mejor recepcion"
   ]
  },
  {
   "cell_type": "code",
   "execution_count": null,
   "id": "36629a82",
   "metadata": {},
   "outputs": [
    {
     "name": "stdout",
     "output_type": "stream",
     "text": [
      "1\n",
      "La suma es: 11\n",
      "La suma de los números convertidos es: 2\n"
     ]
    }
   ],
   "source": [
    "nombre = input(\"Cual es tu nombre? \")\n",
    "print(nombre)\n",
    "\n",
    "numero1 = input(\"Ingresa un número: \")\n",
    "numero2 = input(\"Ingresa otro número: \")\n",
    "suma = numero1 + numero2\n",
    "print(\"La suma es:\", suma) # esto concatena debido a que no pasamos a valor el numero, otra opcion es pedir en int o imprimir en int antes de sumar\n",
    "suma2 = int(numero1) + int(numero2)\n",
    "print(\"La suma de los números convertidos es:\", suma2)\n",
    "nombre3 = int(input(\"ingresa un numero\"))"
   ]
  },
  {
   "cell_type": "code",
   "execution_count": null,
   "id": "b2468ed2",
   "metadata": {},
   "outputs": [
    {
     "name": "stdout",
     "output_type": "stream",
     "text": [
      "la suma de los numeros da: 10\n"
     ]
    }
   ],
   "source": [
    "##challenge 3\n",
    "#Solicitar al usuario ingresar dos números y almacenarlos en dos variables. Luego, imprimir la suma de los dos números.\n",
    "numero1 = int(input(\"Ingresa un número: \"))\n",
    "numero2 = int(input(\"Ingresa otro número: \"))\n",
    "suma_challenge =numero1 + numero2\n",
    "print(f'la suma de los numeros da: {suma_challenge}')"
   ]
  },
  {
   "cell_type": "markdown",
   "id": "15e0cdc6",
   "metadata": {},
   "source": [
    "## FUNCIONES\n",
    "Las funciones son bloques de código que realizan una tarea específica.\n",
    "En programación, las funciones permiten encapsular lógica y operaciones, lo que mejora la estructura del código y su claridad.\n",
    "Además, las funciones pueden recibir parámetros, lo que les permite ser más flexibles y adaptarse a diferentes situaciones.\n",
    "Las funciones también pueden retornar valores, lo que permite que el resultado de una operación se utilice en otras partes del programa.\n",
    "Las funciones pueden ser anidadas, lo que significa que una función puede definir y llamar a otra función dentro de su cuerpo.\n",
    "\n",
    "- Nos sirven para organizar y reutilizar código en programas.\n",
    "- Permiten dividir tareas complejas en partes más simples y manejables.\n",
    "- Facilitan la legibilidad y el mantenimiento del código a largo plazo.\n",
    "- Ayudan a evitar la repetición de código, promoviendo la reutilización y la eficiencia.\n"
   ]
  },
  {
   "cell_type": "code",
   "execution_count": null,
   "id": "f70d0b46",
   "metadata": {},
   "outputs": [
    {
     "name": "stdout",
     "output_type": "stream",
     "text": [
      "abrir el pan\n",
      "agregar los ingredientes\n",
      "cerrar el pan\n",
      "servir el sanguche\n"
     ]
    }
   ],
   "source": [
    "## se crea usando def nombre():\n",
    "#la indentacion es el espacio tipo tabulacion que se genera en las funciones donde indica que accion pertenece a la misma, funciona en for, if etc.\n",
    "# el '=' sirve para asignacion y el ':' sirve para pertenencia, todo lo que viene despues es perteneciente a la función preparar_sanguche()\n",
    "\n",
    "def preparar_sanguche():\n",
    "    print('abrir el pan')\n",
    "    print('agregar los ingredientes')\n",
    "    print('cerrar el pan')\n",
    "    print('servir el sanguche')\n",
    "\n",
    "#se llama a la funcion usando el nombre de la funcion y los parentesis y ya. ejemplo: preparar_sanguche()\n",
    "preparar_sanguche()\n"
   ]
  },
  {
   "cell_type": "code",
   "execution_count": null,
   "id": "d57ae286",
   "metadata": {},
   "outputs": [
    {
     "name": "stdout",
     "output_type": "stream",
     "text": [
      "llamar a porteria\n",
      "dar datos de visitantes\n",
      "indicar hora de llegada aproximada\n",
      "salir a recibir una vez lleguen los invitados\n",
      "acompañar a los visitantes en la salida\n",
      "llamar a porteria\n",
      "dar datos de visitantes\n",
      "indicar hora de llegada aproximada\n",
      "salir a recibir una vez lleguen los invitados\n",
      "acompañar a los visitantes en la salida\n",
      "llamar a porteria\n",
      "dar datos de visitantes\n",
      "indicar hora de llegada aproximada\n",
      "salir a recibir una vez lleguen los invitados\n",
      "acompañar a los visitantes en la salida\n"
     ]
    }
   ],
   "source": [
    "##challenge 4\n",
    "##\n",
    "\n",
    "def proceso_invitados():\n",
    "    print(\"llamar a porteria\")\n",
    "    print(\"dar datos de visitantes\")\n",
    "    print(\"indicar hora de llegada aproximada\")\n",
    "    print(\"salir a recibir una vez lleguen los invitados\")\n",
    "    print(\"acompañar a los visitantes en la salida\")\n",
    "\n",
    "proceso_invitados()\n",
    "proceso_invitados()\n",
    "proceso_invitados()"
   ]
  },
  {
   "cell_type": "markdown",
   "id": "149ed24e",
   "metadata": {},
   "source": [
    "## PARAMETROS Y ARGUMENTOS\n",
    "- Los parámetros son variables que se definen en la declaración de una función, mientras que los argumentos son los valores que se pasan a esa función cuando se llama.\n",
    "- En resumen, los parámetros permiten que las funciones sean más flexibles y reutilizables, ya que pueden aceptar diferentes valores cada vez que se invocan.\n",
    "- Por ejemplo, si una función tiene dos parámetros, puede ser llamada con diferentes pares de argumentos, lo que permite realizar la misma operación con distintos datos.\n",
    "- Esto es especialmente útil en programación, ya que permite que las funciones se adapten a diversas situaciones sin necesidad de reescribir el código. Por ejemplo, una función que suma dos números puede ser utilizada para sumar diferentes pares de números simplemente cambiando los argumentos que se le pasan."
   ]
  },
  {
   "cell_type": "code",
   "execution_count": 58,
   "id": "97ec22d5",
   "metadata": {},
   "outputs": [
    {
     "name": "stdout",
     "output_type": "stream",
     "text": [
      "abrir el pan\n",
      "agregar jamon\n",
      "cerrar el pan\n",
      "servir el sanguche\n"
     ]
    }
   ],
   "source": [
    "def preparar_sanguche(ingrediente):\n",
    "    print('abrir el pan')\n",
    "    print('agregar '+ ingrediente)\n",
    "    print('cerrar el pan')\n",
    "    print('servir el sanguche')\n",
    "\n",
    "preparar_sanguche(\"jamon\")"
   ]
  },
  {
   "cell_type": "code",
   "execution_count": 65,
   "id": "93b49c2e",
   "metadata": {},
   "outputs": [
    {
     "name": "stdout",
     "output_type": "stream",
     "text": [
      "Las características de celular son: camara de 100mp, con buen procesador, minimo snapdragon 881\n"
     ]
    }
   ],
   "source": [
    "##challenge 5\n",
    "##escribir una fuuncion que  nos pregunte las caracteristicas de un elemento a comprar\n",
    "# e imprima el elemento con sus caracteristicas\n",
    "\n",
    "#version mejorada\n",
    "\n",
    "elemento= input(\"ingrese el articulo a comprar: \")\n",
    "def preguntar_caracteristicas2(elemento):\n",
    "    caracteristicas = input(f\"ingrese las caracteristicas de: {elemento}\")\n",
    "    print(f\"Las características de {elemento} son: {caracteristicas}\")\n",
    "\n",
    "preguntar_caracteristicas2(elemento)\n",
    "\n",
    "\n"
   ]
  },
  {
   "cell_type": "code",
   "execution_count": 66,
   "id": "71dc9bfb",
   "metadata": {},
   "outputs": [
    {
     "name": "stdout",
     "output_type": "stream",
     "text": [
      "las caracteristicas de la moto a comprar son: motor de alta cilindrada, tipo deportivo, color negro\n",
      "las caracteristicas de la moto a comprar son: scooter, color rojo, motor eléctrico, de 50cc\n"
     ]
    }
   ],
   "source": [
    "def comprar_moto(caracteristicas):\n",
    "    print(f\"las caracteristicas de la moto a comprar son: {caracteristicas}\")\n",
    "\n",
    "comprar_moto(\"motor de alta cilindrada, tipo deportivo, color negro\")\n",
    "comprar_moto(\"scooter, color rojo, motor eléctrico, de 50cc\")"
   ]
  },
  {
   "cell_type": "markdown",
   "id": "4a7d7102",
   "metadata": {},
   "source": [
    "## ALCANCE DE LAS VARIABLES (VARIABLES LOCALES Y GLOBALES)\n",
    "\n",
    "- Las variables locales son aquellas que se definen dentro de una función y solo son accesibles dentro de esa función, mientras que las variables globales son accesibles desde cualquier parte del código, incluso dentro de las funciones.\n",
    "- Es importante tener en cuenta el alcance de las variables para evitar conflictos y errores en el código, así como para mantener una buena organización y legibilidad en los programas.\n",
    "- En resumen, el uso adecuado de variables locales y globales ayuda a gestionar el estado del programa de manera efectiva y a prevenir efectos secundarios no deseados.\n",
    "- Además, es recomendable utilizar variables locales siempre que sea posible, ya que limitan el alcance de los datos y facilitan la depuración del código.\n"
   ]
  }
 ],
 "metadata": {
  "kernelspec": {
   "display_name": "Python 3",
   "language": "python",
   "name": "python3"
  },
  "language_info": {
   "codemirror_mode": {
    "name": "ipython",
    "version": 3
   },
   "file_extension": ".py",
   "mimetype": "text/x-python",
   "name": "python",
   "nbconvert_exporter": "python",
   "pygments_lexer": "ipython3",
   "version": "3.13.3"
  }
 },
 "nbformat": 4,
 "nbformat_minor": 5
}
